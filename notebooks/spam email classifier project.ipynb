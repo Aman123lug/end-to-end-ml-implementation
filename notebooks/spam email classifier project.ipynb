{
 "cells": [
  {
   "cell_type": "code",
   "execution_count": 1,
   "id": "691c5a97",
   "metadata": {},
   "outputs": [],
   "source": [
    "from nltk.tokenize import RegexpTokenizer, word_tokenize\n",
    "from nltk.stem import PorterStemmer\n",
    "from nltk.corpus import stopwords\n",
    "import pandas as pd\n",
    "import numpy as np\n",
    "from sklearn.preprocessing import LabelEncoder\n",
    "from sklearn.feature_extraction.text import CountVectorizer\n",
    "from sklearn.model_selection import train_test_split\n"
   ]
  },
  {
   "cell_type": "code",
   "execution_count": 2,
   "id": "b546252d",
   "metadata": {},
   "outputs": [],
   "source": [
    "df = pd.read_csv('E:\\\\dataset for practice\\\\spam.csv', encoding='ISO-8859-1')\n",
    "# le = LabelEncoder()"
   ]
  },
  {
   "cell_type": "code",
   "execution_count": 3,
   "id": "91dd1f06",
   "metadata": {},
   "outputs": [
    {
     "data": {
      "text/plain": [
       "array([['ham',\n",
       "        'Go until jurong point, crazy.. Available only in bugis n great world la e buffet... Cine there got amore wat...'],\n",
       "       ['ham', 'Ok lar... Joking wif u oni...'],\n",
       "       ['spam',\n",
       "        \"Free entry in 2 a wkly comp to win FA Cup final tkts 21st May 2005. Text FA to 87121 to receive entry question(std txt rate)T&C's apply 08452810075over18's\"],\n",
       "       ...,\n",
       "       ['ham',\n",
       "        'Pity, * was in mood for that. So...any other suggestions?'],\n",
       "       ['ham',\n",
       "        \"The guy did some bitching but I acted like i'd be interested in buying something else next week and he gave it to us for free\"],\n",
       "       ['ham', 'Rofl. Its true to its name']], dtype=object)"
      ]
     },
     "execution_count": 3,
     "metadata": {},
     "output_type": "execute_result"
    }
   ],
   "source": [
    "data=df.to_numpy()\n",
    "data"
   ]
  },
  {
   "cell_type": "code",
   "execution_count": 4,
   "id": "f5552d5e",
   "metadata": {},
   "outputs": [],
   "source": [
    "X = data[:, 1]\n",
    "y = data[:, 0]"
   ]
  },
  {
   "cell_type": "code",
   "execution_count": 5,
   "id": "5dce917d",
   "metadata": {},
   "outputs": [
    {
     "data": {
      "text/plain": [
       "(5572,)"
      ]
     },
     "execution_count": 5,
     "metadata": {},
     "output_type": "execute_result"
    }
   ],
   "source": [
    "X.shape"
   ]
  },
  {
   "cell_type": "code",
   "execution_count": 6,
   "id": "498c72f4",
   "metadata": {},
   "outputs": [],
   "source": [
    "tokenizer=RegexpTokenizer(\"\\w+\")\n",
    "sw = set(stopwords.words(\"english\"))\n",
    "ps=PorterStemmer()\n",
    "\n",
    "\n",
    "\n",
    "# tokenizer = RegexpTokenizer('\\w+')\n",
    "# sw = set(stopwords.words('english'))\n",
    "# ps = PorterStemmer()"
   ]
  },
  {
   "cell_type": "code",
   "execution_count": 7,
   "id": "a50cd7e4",
   "metadata": {},
   "outputs": [],
   "source": [
    "# def remove_sen(review):\n",
    "#     review = review.lower()\n",
    "#     token = tokenizer.tokenize(review)\n",
    "#     remove_words = [w for w in token if w not in sw]\n",
    "#     stemming_words = [ps.stem(token) for token in remove_words]\n",
    "#     clean_words = ' '.join(stemming_words)\n",
    "#     return clean_words"
   ]
  },
  {
   "cell_type": "code",
   "execution_count": 8,
   "id": "0035eed7",
   "metadata": {},
   "outputs": [],
   "source": [
    "# def get_doc(document):\n",
    "#     a=[]\n",
    "#     for doc in document:\n",
    "#         a.append(remove_sen(doc))\n",
    "#     return a"
   ]
  },
  {
   "cell_type": "code",
   "execution_count": 9,
   "id": "0a8fbf7b",
   "metadata": {},
   "outputs": [],
   "source": [
    "# check = get_doc(X)\n",
    "# check"
   ]
  },
  {
   "cell_type": "code",
   "execution_count": 10,
   "id": "869517e7",
   "metadata": {},
   "outputs": [],
   "source": [
    "def getStem(review):\n",
    "    review = review.lower()\n",
    "    tokens = tokenizer.tokenize(review) # breaking into small words\n",
    "    removed_stopwords = [w for w in tokens if w not in sw]\n",
    "    stemmed_words = [ps.stem(token) for token in removed_stopwords]\n",
    "    clean_review = ' '.join(stemmed_words)\n",
    "    return clean_review"
   ]
  },
  {
   "cell_type": "code",
   "execution_count": 11,
   "id": "b0b8f2ba",
   "metadata": {},
   "outputs": [],
   "source": [
    "# get a clean document\n",
    "def getDoc(document):\n",
    "    d = []\n",
    "    for doc in document:\n",
    "        d.append(getStem(doc))\n",
    "    return d"
   ]
  },
  {
   "cell_type": "code",
   "execution_count": 12,
   "id": "cc084ae9",
   "metadata": {},
   "outputs": [
    {
     "data": {
      "text/plain": [
       "['go jurong point crazi avail bugi n great world la e buffet cine got amor wat',\n",
       " 'ok lar joke wif u oni',\n",
       " 'free entri 2 wkli comp win fa cup final tkt 21st may 2005 text fa 87121 receiv entri question std txt rate c appli 08452810075over18',\n",
       " 'u dun say earli hor u c alreadi say',\n",
       " 'nah think goe usf live around though',\n",
       " 'freemsg hey darl 3 week word back like fun still tb ok xxx std chg send â 1 50 rcv',\n",
       " 'even brother like speak treat like aid patent',\n",
       " 'per request mell mell oru minnaminungint nurungu vettam set callertun caller press 9 copi friend callertun',\n",
       " 'winner valu network custom select receivea â 900 prize reward claim call 09061701461 claim code kl341 valid 12 hour',\n",
       " 'mobil 11 month u r entitl updat latest colour mobil camera free call mobil updat co free 08002986030']"
      ]
     },
     "execution_count": 12,
     "metadata": {},
     "output_type": "execute_result"
    }
   ],
   "source": [
    "check=getDoc(X)\n",
    "check[:10]"
   ]
  },
  {
   "cell_type": "code",
   "execution_count": 13,
   "id": "7e1d6b9b",
   "metadata": {},
   "outputs": [],
   "source": [
    "cv = CountVectorizer()"
   ]
  },
  {
   "cell_type": "code",
   "execution_count": 14,
   "id": "79783957",
   "metadata": {},
   "outputs": [
    {
     "data": {
      "text/plain": [
       "<10x7284 sparse matrix of type '<class 'numpy.int64'>'\n",
       "\twith 118 stored elements in Compressed Sparse Row format>"
      ]
     },
     "execution_count": 14,
     "metadata": {},
     "output_type": "execute_result"
    }
   ],
   "source": [
    "model = cv.fit_transform(check)\n",
    "model[:10]"
   ]
  },
  {
   "cell_type": "code",
   "execution_count": 15,
   "id": "a3bebdf2",
   "metadata": {},
   "outputs": [
    {
     "data": {
      "text/plain": [
       "array([[0, 0, 0, ..., 0, 0, 0],\n",
       "       [0, 0, 0, ..., 0, 0, 0],\n",
       "       [0, 0, 0, ..., 0, 0, 0],\n",
       "       [0, 0, 0, ..., 0, 0, 0],\n",
       "       [0, 0, 0, ..., 0, 0, 0]], dtype=int64)"
      ]
     },
     "execution_count": 15,
     "metadata": {},
     "output_type": "execute_result"
    }
   ],
   "source": [
    "X=model.toarray()\n",
    "X[:5]"
   ]
  },
  {
   "cell_type": "code",
   "execution_count": 16,
   "id": "fef06728",
   "metadata": {},
   "outputs": [],
   "source": [
    "X_train, X_test, y_train, y_test = train_test_split(\n",
    "...     X, y, test_size=0.33, random_state=42)"
   ]
  },
  {
   "cell_type": "code",
   "execution_count": 17,
   "id": "94cb9eed",
   "metadata": {},
   "outputs": [],
   "source": [
    "from sklearn.naive_bayes import MultinomialNB\n"
   ]
  },
  {
   "cell_type": "code",
   "execution_count": 18,
   "id": "43402100",
   "metadata": {},
   "outputs": [],
   "source": [
    "modelnb= MultinomialNB()"
   ]
  },
  {
   "cell_type": "code",
   "execution_count": 19,
   "id": "ca75e53b",
   "metadata": {},
   "outputs": [
    {
     "data": {
      "text/plain": [
       "MultinomialNB()"
      ]
     },
     "execution_count": 19,
     "metadata": {},
     "output_type": "execute_result"
    }
   ],
   "source": [
    "modelnb.fit(X_train, y_train)"
   ]
  },
  {
   "cell_type": "code",
   "execution_count": 20,
   "id": "77cba81f",
   "metadata": {},
   "outputs": [
    {
     "data": {
      "text/plain": [
       "array(['ham', 'ham', 'ham', 'ham', 'ham'], dtype='<U4')"
      ]
     },
     "execution_count": 20,
     "metadata": {},
     "output_type": "execute_result"
    }
   ],
   "source": [
    "modelnb.predict(X_test[:5])"
   ]
  },
  {
   "cell_type": "code",
   "execution_count": 21,
   "id": "ec0e2251",
   "metadata": {},
   "outputs": [
    {
     "data": {
      "text/plain": [
       "0.9809679173463839"
      ]
     },
     "execution_count": 21,
     "metadata": {},
     "output_type": "execute_result"
    }
   ],
   "source": [
    "modelnb.score(X_test, y_test)"
   ]
  },
  {
   "cell_type": "code",
   "execution_count": 22,
   "id": "0e479674",
   "metadata": {},
   "outputs": [],
   "source": [
    "notes =[\n",
    "    \n",
    "\"\"\"Free Data Science Masterclass starting in 30 minutes...click on the button below at 8 pm sharp to join with zoom app:\n",
    "\n",
    "P.S. If you already attended then you don't need to attend again!\"\"\",\n",
    "    \"\"\"Hi Aman, Let's keep the trend going and have ourselves a trends-day Wednesday! Come explore what we have in store for Day 8: 21 Days Challenge: Day 8 Problem of the Day\n",
    "Best Performers of Day 7 of 21 Days Challenge\"\"\",\n",
    "    \n",
    "\"\"\"Free Data Science Masterclass starting in 30 minutes...click on the button below at 8 pm sharp to join with zoom app:\n",
    "\n",
    "P.S. If you already attended then you don't need to attend again!\"\"\",\n",
    "\"\"\"Hi Aman,\n",
    "Some nice music is on and we're about to start!\n",
    "Seats are limited, so make sure you join immediately by clicking on the button below!\"\"\",\n",
    "    \n",
    "\"\"\"Hi Aman kumar,\n",
    "Did you know about the new cut-off score for the Relevel Test? Now, you just have to score 500+ to qualify the Test and start interviewing with some of India’s finest companies.\n",
    "The new cut-off increases your chance to ace the Test. So, make the most of this opportunity by booking your Relevel Test today.\n",
    "Take the Test today, score 500+ and get ready to be hired within 15 days or less.\"\"\",\n",
    "    \"\"\"\n",
    "    Hi Kunal,\n",
    "We invite you to participate in MishMash - India’s largest online diversity hackathon. \n",
    "The hackathon is a Skillenza initiative and sponsored by Microsoft, Unity, Unilever, Gojek, Rocketium and Jharkhand Government. \n",
    "We have a special theme for you - Deep Tech/Machine Learning - sponsored by Unilever, which will be perfect for you.\n",
    "    \"\"\",\n",
    "    \"\"\"Join us today at 12:00 PM ET / 16:00 UTC for a Red Hat DevNation tech talk on AWS Lambda and serverless Java with Bill Burke.\n",
    "Have you ever tried Java on AWS Lambda but found that the cold-start latency and memory usage were far too high? \n",
    "In this session, we will show how we optimized Java for serverless applications by leveraging GraalVM with Quarkus to \n",
    "provide both supersonic startup speed and a subatomic memory footprint.\"\"\",\n",
    "\n",
    "    \"\"\"We really appreciate your interest and wanted to let you know that we have received your application.\n",
    "There is strong competition for jobs at Intel, and we receive many applications. As a result, it may take some time to get back to you.\n",
    "Whether or not this position ends up being a fit, we will keep your information per data retention policies, \n",
    "so we can contact you for other positions that align to your experience and skill set.\n",
    "\"\"\",\n",
    "    \"\"\"Government agencies like the IRS will not contact you via email, phone or text message. If any legitimate government agency needs to contact you, they will usually do so via mail or certified letter.\"\"\",\n",
    "    \"\"\"Notifications involving money owed to you are enticing, aren’t they? “Our records show that you overpaid for (a product or service). Kindly supply your bank routing and account number to receive your refund.” Don’t fall for it.\"\"\",\n",
    "    \"\"\"Scams hiding under the guise of financial institutions like Bank of America, Wells Fargo and Chase have famously allowed scammers to steal tons of personal banking information from customers. \n",
    "\n",
    "Banks will only attempt to verify your identity if you’ve had recent transactions with them, like opening a new account. So if you get a random verification text from your bank, it’s probably fake.\n",
    "\n",
    "\"\"\",\n",
    "    \"\"\"With deliveries from Amazon and FedEx so commonplace now, a text message regarding a package or order would be easy to overlook. While shippers do send legitimate shipping update texts, they’ll never ask for personal information or money to complete a delivery.\"\"\",\n",
    "    \"\"\"Any text that attempts to verify your Apple ID or another technology account is suspicious. If you suspect your account is compromised, contact the company directly and change your passwords immediately.\"\"\",\n",
    "    \"\"\"You should treat any offer of “free” bitcoin the same as any other offer of free money – with high scrutiny. Scammers often use bitcoin as currency in blackmail scams that demand payment for withholding personal details the scammer claims to have about you.\"\"\"\n",
    "    \n",
    "]"
   ]
  },
  {
   "cell_type": "code",
   "execution_count": null,
   "id": "89929435",
   "metadata": {},
   "outputs": [],
   "source": []
  },
  {
   "cell_type": "code",
   "execution_count": null,
   "id": "16fa3a8c",
   "metadata": {},
   "outputs": [],
   "source": []
  },
  {
   "cell_type": "code",
   "execution_count": 23,
   "id": "151a6de4",
   "metadata": {},
   "outputs": [],
   "source": [
    "def preprocess(massege):\n",
    "    d=getDoc(massege)\n",
    "    return cv.transform(d)\n",
    "masseges=preprocess(notes)"
   ]
  },
  {
   "cell_type": "code",
   "execution_count": 24,
   "id": "4af71993",
   "metadata": {},
   "outputs": [
    {
     "data": {
      "text/plain": [
       "<14x7284 sparse matrix of type '<class 'numpy.int64'>'\n",
       "\twith 254 stored elements in Compressed Sparse Row format>"
      ]
     },
     "execution_count": 24,
     "metadata": {},
     "output_type": "execute_result"
    }
   ],
   "source": [
    "masseges"
   ]
  },
  {
   "cell_type": "code",
   "execution_count": 25,
   "id": "23c8515e",
   "metadata": {},
   "outputs": [
    {
     "data": {
      "text/plain": [
       "array(['ham', 'ham', 'ham', 'ham', 'ham', 'ham', 'spam', 'ham', 'ham',\n",
       "       'spam', 'ham', 'ham', 'spam', 'spam'], dtype='<U4')"
      ]
     },
     "execution_count": 25,
     "metadata": {},
     "output_type": "execute_result"
    }
   ],
   "source": [
    "modelnb.predict(masseges)"
   ]
  },
  {
   "cell_type": "code",
   "execution_count": null,
   "id": "c83421a6",
   "metadata": {},
   "outputs": [],
   "source": []
  }
 ],
 "metadata": {
  "kernelspec": {
   "display_name": "Python 3 (ipykernel)",
   "language": "python",
   "name": "python3"
  },
  "language_info": {
   "codemirror_mode": {
    "name": "ipython",
    "version": 3
   },
   "file_extension": ".py",
   "mimetype": "text/x-python",
   "name": "python",
   "nbconvert_exporter": "python",
   "pygments_lexer": "ipython3",
   "version": "3.10.3"
  }
 },
 "nbformat": 4,
 "nbformat_minor": 5
}
